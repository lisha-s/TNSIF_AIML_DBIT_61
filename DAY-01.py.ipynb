{
 "cells": [
  {
   "cell_type": "code",
   "execution_count": 1,
   "id": "2e14fb80",
   "metadata": {},
   "outputs": [
    {
     "name": "stdout",
     "output_type": "stream",
     "text": [
      "Enter PIN: 1234\n",
      "Welcome!\n",
      "\n",
      "1. Check Balance\n",
      "2. Deposit\n",
      "3. Withdraw\n",
      "4. Exit\n",
      "Choose (1-4): 1\n",
      "Balance: ₹ 1000\n",
      "\n",
      "1. Check Balance\n",
      "2. Deposit\n",
      "3. Withdraw\n",
      "4. Exit\n",
      "Choose (1-4): 4\n",
      "Goodbye!\n"
     ]
    }
   ],
   "source": [
    "#Build a simple ATM simulation. User must: Enter correct PIN (e.g., 1234) Can perform withdraw, deposit, or check balance\n",
    "#Only 3 attempts allowed for PIN \n",
    "\n",
    "pin = \"1234\"\n",
    "balance = 1000\n",
    "tries = 0\n",
    "while tries < 3:\n",
    "    user_pin = input(\"Enter PIN: \")\n",
    "    if user_pin == pin:\n",
    "        print(\"Welcome!\")\n",
    "        break\n",
    "    else:\n",
    "        tries += 1\n",
    "        print(\"Wrong PIN\")\n",
    "\n",
    "if tries == 3:\n",
    "    print(\"Account locked.\")\n",
    "else:\n",
    "    while True:\n",
    "        print(\"\\n1. Check Balance\")\n",
    "        print(\"2. Deposit\")\n",
    "        print(\"3. Withdraw\")\n",
    "        print(\"4. Exit\")\n",
    "\n",
    "        choice = input(\"Choose (1-4): \")\n",
    "\n",
    "        if choice == \"1\":\n",
    "            print(\"Balance: ₹\", balance)\n",
    "\n",
    "        elif choice == \"2\":\n",
    "            amount = float(input(\"Amount to deposit: ₹\"))\n",
    "            balance += amount\n",
    "            print(\"Money deposited.\")\n",
    "\n",
    "        elif choice == \"3\":\n",
    "            amount = float(input(\"Amount to withdraw: ₹\"))\n",
    "            if amount <= balance:\n",
    "                balance -= amount\n",
    "                print(\"Money withdrawn.\")\n",
    "            else:\n",
    "                print(\"Not enough balance.\")\n",
    "\n",
    "        elif choice == \"4\":\n",
    "            print(\"Goodbye!\")\n",
    "            break\n",
    "\n",
    "        else:\n",
    "            print(\"Invalid choice.\")"
   ]
  },
  {
   "cell_type": "code",
   "execution_count": null,
   "id": "a638ef10",
   "metadata": {},
   "outputs": [],
   "source": []
  }
 ],
 "metadata": {
  "kernelspec": {
   "display_name": "Python 3 (ipykernel)",
   "language": "python",
   "name": "python3"
  },
  "language_info": {
   "codemirror_mode": {
    "name": "ipython",
    "version": 3
   },
   "file_extension": ".py",
   "mimetype": "text/x-python",
   "name": "python",
   "nbconvert_exporter": "python",
   "pygments_lexer": "ipython3",
   "version": "3.9.13"
  }
 },
 "nbformat": 4,
 "nbformat_minor": 5
}
